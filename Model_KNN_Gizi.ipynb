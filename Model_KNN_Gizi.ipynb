{
  "nbformat": 4,
  "nbformat_minor": 0,
  "metadata": {
    "colab": {
      "name": "Model KNN_Gizi.ipynb",
      "provenance": [],
      "collapsed_sections": []
    },
    "kernelspec": {
      "name": "python3",
      "display_name": "Python 3"
    },
    "language_info": {
      "name": "python"
    }
  },
  "cells": [
    {
      "cell_type": "markdown",
      "source": [
        "**Nama anggota kelompok :**\n",
        "1. Aurellia Gea Lintang Pratiwi – A12.2018.06063 – UDINUS (Non Active)\n",
        "2. Intan Juniar A12.2018.06064 – UDINUS\n",
        "3. Yunia Nur Anisa A12.2018.06096 – UDINUS\n",
        "**Universitas Host :** UDINUS | \n",
        " **Kelas :** Microdential Data Science UDINUS 04\n",
        "\n",
        "\n",
        "---\n",
        "\n"
      ],
      "metadata": {
        "id": "3KQxyZ_p042l"
      }
    },
    {
      "cell_type": "code",
      "metadata": {
        "id": "M8TdKGmGCRLF"
      },
      "source": [
        "import numpy as np\n",
        "import pandas as pd\n",
        "import seaborn as sns\n",
        "import matplotlib.pyplot as plt\n",
        "import os\n",
        "# me-non aktifkan peringatan pada python\n",
        "import warnings \n",
        "warnings.filterwarnings('ignore')"
      ],
      "execution_count": 1,
      "outputs": []
    },
    {
      "cell_type": "markdown",
      "metadata": {
        "id": "t7Z3xcQ_45EX"
      },
      "source": [
        "## Load Data"
      ]
    },
    {
      "cell_type": "code",
      "metadata": {
        "colab": {
          "base_uri": "https://localhost:8080/",
          "height": 310
        },
        "id": "G6CLePR2DZht",
        "outputId": "dff3e276-2339-4c1c-a286-9db7596a43ee"
      },
      "source": [
        "df = pd.read_csv('/content/TA _ Gizi - Sheet2.csv')\n",
        "df.sample(5)"
      ],
      "execution_count": 2,
      "outputs": [
        {
          "output_type": "execute_result",
          "data": {
            "text/html": [
              "<div>\n",
              "<style scoped>\n",
              "    .dataframe tbody tr th:only-of-type {\n",
              "        vertical-align: middle;\n",
              "    }\n",
              "\n",
              "    .dataframe tbody tr th {\n",
              "        vertical-align: top;\n",
              "    }\n",
              "\n",
              "    .dataframe thead th {\n",
              "        text-align: right;\n",
              "    }\n",
              "</style>\n",
              "<table border=\"1\" class=\"dataframe\">\n",
              "  <thead>\n",
              "    <tr style=\"text-align: right;\">\n",
              "      <th></th>\n",
              "      <th>NO</th>\n",
              "      <th>KABUPATEN</th>\n",
              "      <th>PUSKESMAS</th>\n",
              "      <th>JUMLAH BALITA\\n0-59 BULAN YANG DITIMBANG</th>\n",
              "      <th>BALITA GIZI KURANG (BB/U)</th>\n",
              "      <th>JUMLAH BALITA\\n0-59 BULAN YANG DIUKUR TINGGI BADAN</th>\n",
              "      <th>BALITA PENDEK (TB/U)</th>\n",
              "      <th>JUMLAH BALITA\\n0-59 BULAN YANG DIUKUR</th>\n",
              "      <th>BALITA KURUS (BB/TB)</th>\n",
              "      <th>TAHUN</th>\n",
              "      <th>JULAH KASUS</th>\n",
              "      <th>AKSI</th>\n",
              "    </tr>\n",
              "  </thead>\n",
              "  <tbody>\n",
              "    <tr>\n",
              "      <th>27</th>\n",
              "      <td>28</td>\n",
              "      <td>Lombok Utara</td>\n",
              "      <td>8</td>\n",
              "      <td>18666</td>\n",
              "      <td>3521</td>\n",
              "      <td>18412</td>\n",
              "      <td>6223</td>\n",
              "      <td>18516</td>\n",
              "      <td>1133</td>\n",
              "      <td>2020</td>\n",
              "      <td>44717</td>\n",
              "      <td>Pemantauan</td>\n",
              "    </tr>\n",
              "    <tr>\n",
              "      <th>17</th>\n",
              "      <td>18</td>\n",
              "      <td>Lombok Utara</td>\n",
              "      <td>8</td>\n",
              "      <td>1830</td>\n",
              "      <td>458</td>\n",
              "      <td>1830</td>\n",
              "      <td>746</td>\n",
              "      <td>1830</td>\n",
              "      <td>217</td>\n",
              "      <td>2019</td>\n",
              "      <td>4069</td>\n",
              "      <td>Pemantauan</td>\n",
              "    </tr>\n",
              "    <tr>\n",
              "      <th>10</th>\n",
              "      <td>11</td>\n",
              "      <td>Lombok Barat</td>\n",
              "      <td>19</td>\n",
              "      <td>27</td>\n",
              "      <td>4</td>\n",
              "      <td>27</td>\n",
              "      <td>9</td>\n",
              "      <td>27</td>\n",
              "      <td>0</td>\n",
              "      <td>2019</td>\n",
              "      <td>68</td>\n",
              "      <td>Pemantauan</td>\n",
              "    </tr>\n",
              "    <tr>\n",
              "      <th>3</th>\n",
              "      <td>4</td>\n",
              "      <td>Sumbawa</td>\n",
              "      <td>25</td>\n",
              "      <td>35278</td>\n",
              "      <td>3191</td>\n",
              "      <td>35278</td>\n",
              "      <td>5160</td>\n",
              "      <td>35278</td>\n",
              "      <td>1137</td>\n",
              "      <td>2018</td>\n",
              "      <td>96346</td>\n",
              "      <td>Sosialisasi</td>\n",
              "    </tr>\n",
              "    <tr>\n",
              "      <th>26</th>\n",
              "      <td>27</td>\n",
              "      <td>Sumbawa Barat</td>\n",
              "      <td>9</td>\n",
              "      <td>10767</td>\n",
              "      <td>1562</td>\n",
              "      <td>10767</td>\n",
              "      <td>1627</td>\n",
              "      <td>10767</td>\n",
              "      <td>745</td>\n",
              "      <td>2020</td>\n",
              "      <td>28367</td>\n",
              "      <td>Pemantauan</td>\n",
              "    </tr>\n",
              "  </tbody>\n",
              "</table>\n",
              "</div>"
            ],
            "text/plain": [
              "    NO      KABUPATEN  PUSKESMAS  ...  TAHUN  JULAH KASUS         AKSI\n",
              "27  28   Lombok Utara          8  ...   2020        44717   Pemantauan\n",
              "17  18   Lombok Utara          8  ...   2019         4069   Pemantauan\n",
              "10  11   Lombok Barat         19  ...   2019           68   Pemantauan\n",
              "3    4        Sumbawa         25  ...   2018        96346  Sosialisasi\n",
              "26  27  Sumbawa Barat          9  ...   2020        28367   Pemantauan\n",
              "\n",
              "[5 rows x 12 columns]"
            ]
          },
          "metadata": {},
          "execution_count": 2
        }
      ]
    },
    {
      "cell_type": "code",
      "metadata": {
        "colab": {
          "base_uri": "https://localhost:8080/",
          "height": 241
        },
        "id": "g-OBor1o2qHU",
        "outputId": "b44f1966-d91a-4a6c-a745-ca59c12f5900"
      },
      "source": [
        "# Drop KABUPATEN untuk mendapatkan data numerik saja dimana no mewakili KABUPATEN\n",
        "df1 = df.drop('KABUPATEN', axis=1)\n",
        "df1.sample(5)"
      ],
      "execution_count": 5,
      "outputs": [
        {
          "output_type": "execute_result",
          "data": {
            "text/html": [
              "<div>\n",
              "<style scoped>\n",
              "    .dataframe tbody tr th:only-of-type {\n",
              "        vertical-align: middle;\n",
              "    }\n",
              "\n",
              "    .dataframe tbody tr th {\n",
              "        vertical-align: top;\n",
              "    }\n",
              "\n",
              "    .dataframe thead th {\n",
              "        text-align: right;\n",
              "    }\n",
              "</style>\n",
              "<table border=\"1\" class=\"dataframe\">\n",
              "  <thead>\n",
              "    <tr style=\"text-align: right;\">\n",
              "      <th></th>\n",
              "      <th>NO</th>\n",
              "      <th>PUSKESMAS</th>\n",
              "      <th>JUMLAH BALITA\\n0-59 BULAN YANG DITIMBANG</th>\n",
              "      <th>BALITA GIZI KURANG (BB/U)</th>\n",
              "      <th>JUMLAH BALITA\\n0-59 BULAN YANG DIUKUR TINGGI BADAN</th>\n",
              "      <th>BALITA PENDEK (TB/U)</th>\n",
              "      <th>JUMLAH BALITA\\n0-59 BULAN YANG DIUKUR</th>\n",
              "      <th>BALITA KURUS (BB/TB)</th>\n",
              "      <th>TAHUN</th>\n",
              "      <th>JULAH KASUS</th>\n",
              "      <th>AKSI</th>\n",
              "    </tr>\n",
              "  </thead>\n",
              "  <tbody>\n",
              "    <tr>\n",
              "      <th>20</th>\n",
              "      <td>21</td>\n",
              "      <td>20</td>\n",
              "      <td>47840</td>\n",
              "      <td>9067</td>\n",
              "      <td>46555</td>\n",
              "      <td>13647</td>\n",
              "      <td>46867</td>\n",
              "      <td>2285</td>\n",
              "      <td>2020</td>\n",
              "      <td>116263</td>\n",
              "      <td>Sosialisasi</td>\n",
              "    </tr>\n",
              "    <tr>\n",
              "      <th>25</th>\n",
              "      <td>26</td>\n",
              "      <td>21</td>\n",
              "      <td>38006</td>\n",
              "      <td>6743</td>\n",
              "      <td>37453</td>\n",
              "      <td>8431</td>\n",
              "      <td>37776</td>\n",
              "      <td>5059</td>\n",
              "      <td>2020</td>\n",
              "      <td>93002</td>\n",
              "      <td>Sosialisasi</td>\n",
              "    </tr>\n",
              "    <tr>\n",
              "      <th>23</th>\n",
              "      <td>24</td>\n",
              "      <td>26</td>\n",
              "      <td>36709</td>\n",
              "      <td>3864</td>\n",
              "      <td>36821</td>\n",
              "      <td>4019</td>\n",
              "      <td>36829</td>\n",
              "      <td>1425</td>\n",
              "      <td>2020</td>\n",
              "      <td>101051</td>\n",
              "      <td>Sosialisasi</td>\n",
              "    </tr>\n",
              "    <tr>\n",
              "      <th>14</th>\n",
              "      <td>15</td>\n",
              "      <td>9</td>\n",
              "      <td>8308</td>\n",
              "      <td>1594</td>\n",
              "      <td>8308</td>\n",
              "      <td>3198</td>\n",
              "      <td>8308</td>\n",
              "      <td>698</td>\n",
              "      <td>2019</td>\n",
              "      <td>19434</td>\n",
              "      <td>Pemantauan</td>\n",
              "    </tr>\n",
              "    <tr>\n",
              "      <th>19</th>\n",
              "      <td>20</td>\n",
              "      <td>7</td>\n",
              "      <td>49</td>\n",
              "      <td>8</td>\n",
              "      <td>49</td>\n",
              "      <td>17</td>\n",
              "      <td>49</td>\n",
              "      <td>5</td>\n",
              "      <td>2019</td>\n",
              "      <td>117</td>\n",
              "      <td>Pemantauan</td>\n",
              "    </tr>\n",
              "  </tbody>\n",
              "</table>\n",
              "</div>"
            ],
            "text/plain": [
              "    NO  PUSKESMAS  ...  JULAH KASUS         AKSI\n",
              "20  21         20  ...       116263  Sosialisasi\n",
              "25  26         21  ...        93002  Sosialisasi\n",
              "23  24         26  ...       101051  Sosialisasi\n",
              "14  15          9  ...        19434   Pemantauan\n",
              "19  20          7  ...          117   Pemantauan\n",
              "\n",
              "[5 rows x 11 columns]"
            ]
          },
          "metadata": {},
          "execution_count": 5
        }
      ]
    },
    {
      "cell_type": "code",
      "metadata": {
        "colab": {
          "base_uri": "https://localhost:8080/"
        },
        "id": "WsFE_iWyNz31",
        "outputId": "73882189-f2d6-4872-f236-346222effbc4"
      },
      "source": [
        "df1.info()"
      ],
      "execution_count": 6,
      "outputs": [
        {
          "output_type": "stream",
          "name": "stdout",
          "text": [
            "<class 'pandas.core.frame.DataFrame'>\n",
            "RangeIndex: 30 entries, 0 to 29\n",
            "Data columns (total 11 columns):\n",
            " #   Column                                             Non-Null Count  Dtype \n",
            "---  ------                                             --------------  ----- \n",
            " 0   NO                                                 30 non-null     int64 \n",
            " 1   PUSKESMAS                                          30 non-null     int64 \n",
            " 2   JUMLAH BALITA\n",
            "0-59 BULAN YANG DITIMBANG            30 non-null     int64 \n",
            " 3   BALITA GIZI KURANG (BB/U)                          30 non-null     int64 \n",
            " 4   JUMLAH BALITA\n",
            "0-59 BULAN YANG DIUKUR TINGGI BADAN  30 non-null     int64 \n",
            " 5   BALITA PENDEK (TB/U)                               30 non-null     int64 \n",
            " 6   JUMLAH BALITA\n",
            "0-59 BULAN YANG DIUKUR               30 non-null     int64 \n",
            " 7   BALITA KURUS (BB/TB)                               30 non-null     int64 \n",
            " 8   TAHUN                                              30 non-null     int64 \n",
            " 9   JULAH KASUS                                        30 non-null     int64 \n",
            " 10  AKSI                                               30 non-null     object\n",
            "dtypes: int64(10), object(1)\n",
            "memory usage: 2.7+ KB\n"
          ]
        }
      ]
    },
    {
      "cell_type": "code",
      "source": [
        "def AKSI(status):\n",
        "  if status == \"Sosialisasi\":\n",
        "    return 1\n",
        "  else:\n",
        "    return 2\n",
        "  \n",
        "actualScore = list(df1[\"AKSI\"])\n",
        "positiveNegative = list(map(AKSI, actualScore))\n",
        "df1['AKSI'] = positiveNegative"
      ],
      "metadata": {
        "id": "PB6HzdmWvVE9"
      },
      "execution_count": 7,
      "outputs": []
    },
    {
      "cell_type": "code",
      "source": [
        "df1.sample(5)"
      ],
      "metadata": {
        "colab": {
          "base_uri": "https://localhost:8080/",
          "height": 241
        },
        "id": "CnSGwhbTwCyI",
        "outputId": "2ab615a5-2372-4f52-91f1-6a8f86e45f79"
      },
      "execution_count": 8,
      "outputs": [
        {
          "output_type": "execute_result",
          "data": {
            "text/html": [
              "<div>\n",
              "<style scoped>\n",
              "    .dataframe tbody tr th:only-of-type {\n",
              "        vertical-align: middle;\n",
              "    }\n",
              "\n",
              "    .dataframe tbody tr th {\n",
              "        vertical-align: top;\n",
              "    }\n",
              "\n",
              "    .dataframe thead th {\n",
              "        text-align: right;\n",
              "    }\n",
              "</style>\n",
              "<table border=\"1\" class=\"dataframe\">\n",
              "  <thead>\n",
              "    <tr style=\"text-align: right;\">\n",
              "      <th></th>\n",
              "      <th>NO</th>\n",
              "      <th>PUSKESMAS</th>\n",
              "      <th>JUMLAH BALITA\\n0-59 BULAN YANG DITIMBANG</th>\n",
              "      <th>BALITA GIZI KURANG (BB/U)</th>\n",
              "      <th>JUMLAH BALITA\\n0-59 BULAN YANG DIUKUR TINGGI BADAN</th>\n",
              "      <th>BALITA PENDEK (TB/U)</th>\n",
              "      <th>JUMLAH BALITA\\n0-59 BULAN YANG DIUKUR</th>\n",
              "      <th>BALITA KURUS (BB/TB)</th>\n",
              "      <th>TAHUN</th>\n",
              "      <th>JULAH KASUS</th>\n",
              "      <th>AKSI</th>\n",
              "    </tr>\n",
              "  </thead>\n",
              "  <tbody>\n",
              "    <tr>\n",
              "      <th>17</th>\n",
              "      <td>18</td>\n",
              "      <td>8</td>\n",
              "      <td>1830</td>\n",
              "      <td>458</td>\n",
              "      <td>1830</td>\n",
              "      <td>746</td>\n",
              "      <td>1830</td>\n",
              "      <td>217</td>\n",
              "      <td>2019</td>\n",
              "      <td>4069</td>\n",
              "      <td>2</td>\n",
              "    </tr>\n",
              "    <tr>\n",
              "      <th>4</th>\n",
              "      <td>5</td>\n",
              "      <td>9</td>\n",
              "      <td>21116</td>\n",
              "      <td>13041</td>\n",
              "      <td>21116</td>\n",
              "      <td>2185</td>\n",
              "      <td>21116</td>\n",
              "      <td>27</td>\n",
              "      <td>2018</td>\n",
              "      <td>48095</td>\n",
              "      <td>2</td>\n",
              "    </tr>\n",
              "    <tr>\n",
              "      <th>27</th>\n",
              "      <td>28</td>\n",
              "      <td>8</td>\n",
              "      <td>18666</td>\n",
              "      <td>3521</td>\n",
              "      <td>18412</td>\n",
              "      <td>6223</td>\n",
              "      <td>18516</td>\n",
              "      <td>1133</td>\n",
              "      <td>2020</td>\n",
              "      <td>44717</td>\n",
              "      <td>2</td>\n",
              "    </tr>\n",
              "    <tr>\n",
              "      <th>3</th>\n",
              "      <td>4</td>\n",
              "      <td>25</td>\n",
              "      <td>35278</td>\n",
              "      <td>3191</td>\n",
              "      <td>35278</td>\n",
              "      <td>5160</td>\n",
              "      <td>35278</td>\n",
              "      <td>1137</td>\n",
              "      <td>2018</td>\n",
              "      <td>96346</td>\n",
              "      <td>1</td>\n",
              "    </tr>\n",
              "    <tr>\n",
              "      <th>5</th>\n",
              "      <td>6</td>\n",
              "      <td>21</td>\n",
              "      <td>35213</td>\n",
              "      <td>6089</td>\n",
              "      <td>35213</td>\n",
              "      <td>3999</td>\n",
              "      <td>35213</td>\n",
              "      <td>3236</td>\n",
              "      <td>2018</td>\n",
              "      <td>92315</td>\n",
              "      <td>1</td>\n",
              "    </tr>\n",
              "  </tbody>\n",
              "</table>\n",
              "</div>"
            ],
            "text/plain": [
              "    NO  PUSKESMAS  ...  JULAH KASUS  AKSI\n",
              "17  18          8  ...         4069     2\n",
              "4    5          9  ...        48095     2\n",
              "27  28          8  ...        44717     2\n",
              "3    4         25  ...        96346     1\n",
              "5    6         21  ...        92315     1\n",
              "\n",
              "[5 rows x 11 columns]"
            ]
          },
          "metadata": {},
          "execution_count": 8
        }
      ]
    },
    {
      "cell_type": "code",
      "metadata": {
        "colab": {
          "base_uri": "https://localhost:8080/",
          "height": 394
        },
        "id": "w0-MtLwtMR-Q",
        "outputId": "188ec8e3-55ee-4510-b927-d50a784bc819"
      },
      "source": [
        "# describing stats of variables\n",
        "df1.describe().T"
      ],
      "execution_count": 9,
      "outputs": [
        {
          "output_type": "execute_result",
          "data": {
            "text/html": [
              "<div>\n",
              "<style scoped>\n",
              "    .dataframe tbody tr th:only-of-type {\n",
              "        vertical-align: middle;\n",
              "    }\n",
              "\n",
              "    .dataframe tbody tr th {\n",
              "        vertical-align: top;\n",
              "    }\n",
              "\n",
              "    .dataframe thead th {\n",
              "        text-align: right;\n",
              "    }\n",
              "</style>\n",
              "<table border=\"1\" class=\"dataframe\">\n",
              "  <thead>\n",
              "    <tr style=\"text-align: right;\">\n",
              "      <th></th>\n",
              "      <th>count</th>\n",
              "      <th>mean</th>\n",
              "      <th>std</th>\n",
              "      <th>min</th>\n",
              "      <th>25%</th>\n",
              "      <th>50%</th>\n",
              "      <th>75%</th>\n",
              "      <th>max</th>\n",
              "    </tr>\n",
              "  </thead>\n",
              "  <tbody>\n",
              "    <tr>\n",
              "      <th>NO</th>\n",
              "      <td>30.0</td>\n",
              "      <td>15.500000</td>\n",
              "      <td>8.803408</td>\n",
              "      <td>1.0</td>\n",
              "      <td>8.25</td>\n",
              "      <td>15.5</td>\n",
              "      <td>22.75</td>\n",
              "      <td>30.0</td>\n",
              "    </tr>\n",
              "    <tr>\n",
              "      <th>PUSKESMAS</th>\n",
              "      <td>30.0</td>\n",
              "      <td>16.966667</td>\n",
              "      <td>9.076242</td>\n",
              "      <td>7.0</td>\n",
              "      <td>9.00</td>\n",
              "      <td>15.0</td>\n",
              "      <td>25.00</td>\n",
              "      <td>35.0</td>\n",
              "    </tr>\n",
              "    <tr>\n",
              "      <th>JUMLAH BALITA\\n0-59 BULAN YANG DITIMBANG</th>\n",
              "      <td>30.0</td>\n",
              "      <td>26269.700000</td>\n",
              "      <td>26577.675127</td>\n",
              "      <td>27.0</td>\n",
              "      <td>6552.25</td>\n",
              "      <td>17794.0</td>\n",
              "      <td>36351.25</td>\n",
              "      <td>106879.0</td>\n",
              "    </tr>\n",
              "    <tr>\n",
              "      <th>BALITA GIZI KURANG (BB/U)</th>\n",
              "      <td>30.0</td>\n",
              "      <td>4019.800000</td>\n",
              "      <td>3934.218780</td>\n",
              "      <td>4.0</td>\n",
              "      <td>809.25</td>\n",
              "      <td>2780.0</td>\n",
              "      <td>6579.50</td>\n",
              "      <td>13041.0</td>\n",
              "    </tr>\n",
              "    <tr>\n",
              "      <th>JUMLAH BALITA\\n0-59 BULAN YANG DIUKUR TINGGI BADAN</th>\n",
              "      <td>30.0</td>\n",
              "      <td>26056.666667</td>\n",
              "      <td>26589.960778</td>\n",
              "      <td>27.0</td>\n",
              "      <td>6552.25</td>\n",
              "      <td>17248.0</td>\n",
              "      <td>36435.25</td>\n",
              "      <td>106218.0</td>\n",
              "    </tr>\n",
              "    <tr>\n",
              "      <th>BALITA PENDEK (TB/U)</th>\n",
              "      <td>30.0</td>\n",
              "      <td>5295.700000</td>\n",
              "      <td>6185.850780</td>\n",
              "      <td>9.0</td>\n",
              "      <td>873.75</td>\n",
              "      <td>2691.5</td>\n",
              "      <td>7879.00</td>\n",
              "      <td>20513.0</td>\n",
              "    </tr>\n",
              "    <tr>\n",
              "      <th>JUMLAH BALITA\\n0-59 BULAN YANG DIUKUR</th>\n",
              "      <td>30.0</td>\n",
              "      <td>26148.300000</td>\n",
              "      <td>26412.043186</td>\n",
              "      <td>27.0</td>\n",
              "      <td>6552.25</td>\n",
              "      <td>17300.0</td>\n",
              "      <td>36441.25</td>\n",
              "      <td>106618.0</td>\n",
              "    </tr>\n",
              "    <tr>\n",
              "      <th>BALITA KURUS (BB/TB)</th>\n",
              "      <td>30.0</td>\n",
              "      <td>1337.433333</td>\n",
              "      <td>1466.115573</td>\n",
              "      <td>0.0</td>\n",
              "      <td>307.50</td>\n",
              "      <td>721.5</td>\n",
              "      <td>1768.50</td>\n",
              "      <td>5059.0</td>\n",
              "    </tr>\n",
              "    <tr>\n",
              "      <th>TAHUN</th>\n",
              "      <td>30.0</td>\n",
              "      <td>2019.000000</td>\n",
              "      <td>0.830455</td>\n",
              "      <td>2018.0</td>\n",
              "      <td>2018.00</td>\n",
              "      <td>2019.0</td>\n",
              "      <td>2020.00</td>\n",
              "      <td>2020.0</td>\n",
              "    </tr>\n",
              "    <tr>\n",
              "      <th>JULAH KASUS</th>\n",
              "      <td>30.0</td>\n",
              "      <td>67821.733333</td>\n",
              "      <td>69577.458445</td>\n",
              "      <td>68.0</td>\n",
              "      <td>16821.75</td>\n",
              "      <td>42708.5</td>\n",
              "      <td>95510.00</td>\n",
              "      <td>287123.0</td>\n",
              "    </tr>\n",
              "    <tr>\n",
              "      <th>AKSI</th>\n",
              "      <td>30.0</td>\n",
              "      <td>1.600000</td>\n",
              "      <td>0.498273</td>\n",
              "      <td>1.0</td>\n",
              "      <td>1.00</td>\n",
              "      <td>2.0</td>\n",
              "      <td>2.00</td>\n",
              "      <td>2.0</td>\n",
              "    </tr>\n",
              "  </tbody>\n",
              "</table>\n",
              "</div>"
            ],
            "text/plain": [
              "                                                    count  ...       max\n",
              "NO                                                   30.0  ...      30.0\n",
              "PUSKESMAS                                            30.0  ...      35.0\n",
              "JUMLAH BALITA\\n0-59 BULAN YANG DITIMBANG             30.0  ...  106879.0\n",
              "BALITA GIZI KURANG (BB/U)                            30.0  ...   13041.0\n",
              "JUMLAH BALITA\\n0-59 BULAN YANG DIUKUR TINGGI BADAN   30.0  ...  106218.0\n",
              "BALITA PENDEK (TB/U)                                 30.0  ...   20513.0\n",
              "JUMLAH BALITA\\n0-59 BULAN YANG DIUKUR                30.0  ...  106618.0\n",
              "BALITA KURUS (BB/TB)                                 30.0  ...    5059.0\n",
              "TAHUN                                                30.0  ...    2020.0\n",
              "JULAH KASUS                                          30.0  ...  287123.0\n",
              "AKSI                                                 30.0  ...       2.0\n",
              "\n",
              "[11 rows x 8 columns]"
            ]
          },
          "metadata": {},
          "execution_count": 9
        }
      ]
    },
    {
      "cell_type": "code",
      "metadata": {
        "id": "htnRvm_5IZCA",
        "colab": {
          "base_uri": "https://localhost:8080/"
        },
        "outputId": "e43d6c99-4459-42d3-b942-08b2370727aa"
      },
      "source": [
        "df1.shape"
      ],
      "execution_count": 10,
      "outputs": [
        {
          "output_type": "execute_result",
          "data": {
            "text/plain": [
              "(30, 11)"
            ]
          },
          "metadata": {},
          "execution_count": 10
        }
      ]
    },
    {
      "cell_type": "code",
      "metadata": {
        "colab": {
          "base_uri": "https://localhost:8080/",
          "height": 1000
        },
        "id": "AtbblQXF6X-8",
        "outputId": "baa2128d-52a2-4224-f7ba-73d5ed630360"
      },
      "source": [
        "sns.pairplot(df1[['JUMLAH BALITA\\n0-59 BULAN YANG DITIMBANG', 'BALITA GIZI KURANG (BB/U)', 'JUMLAH BALITA\\n0-59 BULAN YANG DIUKUR TINGGI BADAN', 'BALITA PENDEK (TB/U)', 'JUMLAH BALITA\\n0-59 BULAN YANG DIUKUR',  'BALITA KURUS (BB/TB)']])"
      ],
      "execution_count": 11,
      "outputs": [
        {
          "output_type": "execute_result",
          "data": {
            "text/plain": [
              "<seaborn.axisgrid.PairGrid at 0x7f92765a1b90>"
            ]
          },
          "metadata": {},
          "execution_count": 11
        },
        {
          "output_type": "display_data",
          "data": {
            "image/png": "[encoded data removed]",
            "text/plain": [
              "<Figure size 1080x1080 with 42 Axes>"
            ]
          },
          "metadata": {
            "needs_background": "light"
          }
        }
      ]
    },
    {
      "cell_type": "code",
      "metadata": {
        "id": "WcfJVmCRD6ZN",
        "colab": {
          "base_uri": "https://localhost:8080/",
          "height": 297
        },
        "outputId": "6c76da9f-0aa6-4d30-fa3b-5a5c2d4af95f"
      },
      "source": [
        "# Melihat distribusi data dari target classes --> Aksi\n",
        "sns.countplot(df1[\"AKSI\"])"
      ],
      "execution_count": 12,
      "outputs": [
        {
          "output_type": "execute_result",
          "data": {
            "text/plain": [
              "<matplotlib.axes._subplots.AxesSubplot at 0x7f926cd77610>"
            ]
          },
          "metadata": {},
          "execution_count": 12
        },
        {
          "output_type": "display_data",
          "data": {
            "image/png": "[encoded data removed]",
            "text/plain": [
              "<Figure size 432x288 with 1 Axes>"
            ]
          },
          "metadata": {
            "needs_background": "light"
          }
        }
      ]
    },
    {
      "cell_type": "code",
      "source": [
        "#Let's create numpy arrays for features and target\n",
        "X = df1.drop('AKSI',axis=1).values\n",
        "y = df1['AKSI'].values"
      ],
      "metadata": {
        "id": "WrwZfCrTKW5q"
      },
      "execution_count": 14,
      "outputs": []
    },
    {
      "cell_type": "code",
      "source": [
        "import sklearn\n",
        "#import KNeighborsClassifier\n",
        "from sklearn.neighbors import KNeighborsClassifier\n",
        "\n",
        "KNN = sklearn.neighbors.KNeighborsClassifier()\n",
        "KNN.fit(X, y)"
      ],
      "metadata": {
        "colab": {
          "base_uri": "https://localhost:8080/"
        },
        "id": "-fLDLGn61bnC",
        "outputId": "d85d529c-05c2-44e6-d022-ab042304af5d"
      },
      "execution_count": 15,
      "outputs": [
        {
          "output_type": "execute_result",
          "data": {
            "text/plain": [
              "KNeighborsClassifier()"
            ]
          },
          "metadata": {},
          "execution_count": 15
        }
      ]
    },
    {
      "cell_type": "code",
      "source": [
        "KNN.score(X, y)"
      ],
      "metadata": {
        "colab": {
          "base_uri": "https://localhost:8080/"
        },
        "id": "MDlhsssI2iiE",
        "outputId": "532111ec-3021-45f6-e67c-61a0fed86af6"
      },
      "execution_count": 16,
      "outputs": [
        {
          "output_type": "execute_result",
          "data": {
            "text/plain": [
              "1.0"
            ]
          },
          "metadata": {},
          "execution_count": 16
        }
      ]
    },
    {
      "cell_type": "code",
      "source": [
        "import pickle"
      ],
      "metadata": {
        "id": "7x9DnDVd2kN8"
      },
      "execution_count": 17,
      "outputs": []
    },
    {
      "cell_type": "code",
      "source": [
        "with open('knn_model.pkl', 'wb') as f:\n",
        "    pickle.dump(KNN, f)"
      ],
      "metadata": {
        "id": "cZqtZOAj2r4V"
      },
      "execution_count": 18,
      "outputs": []
    },
    {
      "cell_type": "code",
      "source": [
        "with open('knn_model.pkl', 'rb') as f:\n",
        "    KNN_loaded = pickle.load(f)"
      ],
      "metadata": {
        "id": "3H9YHSEO23Jq"
      },
      "execution_count": 19,
      "outputs": []
    },
    {
      "cell_type": "code",
      "source": [
        "model = pickle.load(open('knn_model.pkl','rb'))"
      ],
      "metadata": {
        "id": "eX-_zk7b25F0"
      },
      "execution_count": 20,
      "outputs": []
    },
    {
      "cell_type": "code",
      "source": [
        "print(model.predict([[4, 25, 30000, 1500, 30000, 8900, 30000, 5600, 2021, 74000]]))"
      ],
      "metadata": {
        "colab": {
          "base_uri": "https://localhost:8080/"
        },
        "id": "J-5BgxYL27Gg",
        "outputId": "5e3bd069-08b4-41e5-8be7-68e8e531a723"
      },
      "execution_count": 22,
      "outputs": [
        {
          "output_type": "stream",
          "name": "stdout",
          "text": [
            "[1]\n"
          ]
        }
      ]
    },
    {
      "cell_type": "code",
      "source": [
        ""
      ],
      "metadata": {
        "id": "wXUQOnJ13OmU"
      },
      "execution_count": null,
      "outputs": []
    },
    {
      "cell_type": "markdown",
      "source": [
        "Inputan dalam prediksi :\n",
        "1. KABUPATEN\n",
        "2. PUSKESMAS\t\n",
        "3. JUMLAH BALITA\\n0-59 BULAN YANG DITIMBANG\t\n",
        "4. BALITA GIZI KURANG (BB/U)\t\n",
        "5. JUMLAH BALITA\\n0-59 BULAN YANG DIUKUR TINGGI BADAN\n",
        "6. BALITA PENDEK (TB/U)\t\n",
        "7. JUMLAH BALITA\\n0-59 BULAN YANG DIUKUR\t\n",
        "8. BALITA KURUS (BB/TB)\t\n",
        "9. TAHUN\t\n",
        "10. JULAH KASUS\n",
        "\n",
        "NB : JUMLAH BALITA\\n0-59 dalam 3 kategori selalu sama\n"
      ],
      "metadata": {
        "id": "_Hnw8fcV4Isv"
      }
    }
  ]
}